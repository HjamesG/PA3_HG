{
 "cells": [
  {
   "cell_type": "markdown",
   "id": "fe022ca2",
   "metadata": {},
   "source": [
    "# Programming Assigment 3  \n",
    "## Working with Lists and Tuples\n",
    "### Harrison Gilbert, Fall 2023\n"
   ]
  },
  {
   "cell_type": "markdown",
   "id": "6db437f2",
   "metadata": {},
   "source": [
    "## Task 1: List Operations"
   ]
  },
  {
   "cell_type": "code",
   "execution_count": 3,
   "id": "e4e90427",
   "metadata": {},
   "outputs": [
    {
     "name": "stdout",
     "output_type": "stream",
     "text": [
      "Modified numbers list: [5, 20, 30, 40, 50, 60]\n"
     ]
    }
   ],
   "source": [
    "numbers = [10, 20, 30, 40, 50]\n",
    "numbers.append(60)\n",
    "numbers.insert(0, 5)\n",
    "numbers.pop(1)\n",
    "print(f\"Modified numbers list: {numbers}\")"
   ]
  },
  {
   "cell_type": "markdown",
   "id": "b2a5cc31",
   "metadata": {},
   "source": [
    "## Task 2: Tuple Basics"
   ]
  },
  {
   "cell_type": "code",
   "execution_count": 7,
   "id": "24579176",
   "metadata": {},
   "outputs": [
    {
     "name": "stdout",
     "output_type": "stream",
     "text": [
      "Wednesday\n"
     ]
    },
    {
     "ename": "TypeError",
     "evalue": "'tuple' object does not support item assignment",
     "output_type": "error",
     "traceback": [
      "\u001b[0;31m---------------------------------------------------------------------------\u001b[0m",
      "\u001b[0;31mTypeError\u001b[0m                                 Traceback (most recent call last)",
      "Cell \u001b[0;32mIn[7], line 3\u001b[0m\n\u001b[1;32m      1\u001b[0m days \u001b[38;5;241m=\u001b[39m (\u001b[38;5;124m\"\u001b[39m\u001b[38;5;124mMonday\u001b[39m\u001b[38;5;124m\"\u001b[39m, \u001b[38;5;124m\"\u001b[39m\u001b[38;5;124mTuesday\u001b[39m\u001b[38;5;124m\"\u001b[39m, \u001b[38;5;124m\"\u001b[39m\u001b[38;5;124mWednesday\u001b[39m\u001b[38;5;124m\"\u001b[39m, \u001b[38;5;124m\"\u001b[39m\u001b[38;5;124mThursday\u001b[39m\u001b[38;5;124m\"\u001b[39m, \u001b[38;5;124m\"\u001b[39m\u001b[38;5;124mFriday\u001b[39m\u001b[38;5;124m\"\u001b[39m, \u001b[38;5;124m\"\u001b[39m\u001b[38;5;124mSaturday\u001b[39m\u001b[38;5;124m\"\u001b[39m, \u001b[38;5;124m\"\u001b[39m\u001b[38;5;124mSunday\u001b[39m\u001b[38;5;124m\"\u001b[39m)\n\u001b[1;32m      2\u001b[0m \u001b[38;5;28mprint\u001b[39m(days[\u001b[38;5;241m2\u001b[39m])\n\u001b[0;32m----> 3\u001b[0m days[\u001b[38;5;241m1\u001b[39m] \u001b[38;5;241m=\u001b[39m \u001b[38;5;124m\"\u001b[39m\u001b[38;5;124mFunday\u001b[39m\u001b[38;5;124m\"\u001b[39m\n",
      "\u001b[0;31mTypeError\u001b[0m: 'tuple' object does not support item assignment"
     ]
    }
   ],
   "source": [
    "days = (\"Monday\", \"Tuesday\", \"Wednesday\", \"Thursday\", \"Friday\", \"Saturday\", \"Sunday\")\n",
    "print(days[2])\n",
    "days[1] = \"Funday\""
   ]
  },
  {
   "cell_type": "markdown",
   "id": "f2cfb452",
   "metadata": {},
   "source": [
    "#### The above error occurs because tuples are immutable, meaning you cannot change them without completely remaking it. "
   ]
  },
  {
   "cell_type": "markdown",
   "id": "0064e2cc",
   "metadata": {},
   "source": [
    "## Task 3: Reversing Sublist"
   ]
  },
  {
   "cell_type": "code",
   "execution_count": 24,
   "id": "811425c1",
   "metadata": {},
   "outputs": [
    {
     "name": "stdout",
     "output_type": "stream",
     "text": [
      "Extracted sublist: ['k', 'l', 'm', 'n', 'o', 'p']\n",
      "Reversed sublist: ['p', 'o', 'n', 'm', 'l', 'k']\n"
     ]
    }
   ],
   "source": [
    "letters = [\"a\",\"b\",\"c\",\"d\",\"e\",\"f\",\"g\",\"h\",\"i\",\"j\",\"k\",\"l\",\"m\",\"n\",\"o\",\"p\",\"q\",\"r\",\"s\",\"t\",\"u\",\"v\",\"w\",\"x\",\"y\",\"z\"]\n",
    "sublist = letters[10:16:]\n",
    "print(f\"Extracted sublist: {sublist}\")\n",
    "print(f\"Reversed sublist: {sublist[::-1]}\")"
   ]
  },
  {
   "cell_type": "markdown",
   "id": "c9aef9aa",
   "metadata": {},
   "source": [
    "## Task 4: Tuple Packing and Unpacking"
   ]
  },
  {
   "cell_type": "code",
   "execution_count": 25,
   "id": "aceee1e4",
   "metadata": {},
   "outputs": [
    {
     "name": "stdout",
     "output_type": "stream",
     "text": [
      "Harrison\n",
      "Gilbert\n",
      "18\n",
      "Computer Science\n"
     ]
    }
   ],
   "source": [
    "student = (\"Harrison\", \"Gilbert\", 18, \"Computer Science\")\n",
    "for info in student:\n",
    "    print(info)"
   ]
  },
  {
   "cell_type": "markdown",
   "id": "f7642219",
   "metadata": {},
   "source": [
    "## Task 5: Shopping List"
   ]
  },
  {
   "cell_type": "code",
   "execution_count": 35,
   "id": "41cee7a4",
   "metadata": {},
   "outputs": [
    {
     "name": "stdout",
     "output_type": "stream",
     "text": [
      "There are 5 items in the shopping list.\n",
      "Alphabetical ordered shopping list: ['Bread', 'Cerial', 'Milk', 'Soap', 'Trash bags']\n"
     ]
    }
   ],
   "source": [
    "shopping_list = [\"Milk\", \"Bread\", \"Eggs\", \"Soap\", \"Trash bags\"]\n",
    "print(f\"There are {len(shopping_list)} items in the shopping list.\")\n",
    "shopping_list[2] = \"Cerial\"\n",
    "shopping_list.sort()\n",
    "print(f\"Alphabetical ordered shopping list: {shopping_list}\")"
   ]
  },
  {
   "cell_type": "code",
   "execution_count": null,
   "id": "2c821857",
   "metadata": {},
   "outputs": [],
   "source": []
  }
 ],
 "metadata": {
  "kernelspec": {
   "display_name": "Python 3 (ipykernel)",
   "language": "python",
   "name": "python3"
  },
  "language_info": {
   "codemirror_mode": {
    "name": "ipython",
    "version": 3
   },
   "file_extension": ".py",
   "mimetype": "text/x-python",
   "name": "python",
   "nbconvert_exporter": "python",
   "pygments_lexer": "ipython3",
   "version": "3.11.4"
  }
 },
 "nbformat": 4,
 "nbformat_minor": 5
}
